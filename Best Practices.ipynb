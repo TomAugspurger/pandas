{
 "cells": [
  {
   "cell_type": "markdown",
   "metadata": {},
   "source": [
    "# Best Practices\n",
    "\n",
    "This document collects some of the best practices used elsewhere in the pandas documentation.\n",
    "Together, they lead to a style of code lovingly referred to as *pandorable*. We encourage\n",
    "you to apply these practicies when using pandas."
   ]
  },
  {
   "cell_type": "code",
   "execution_count": 1,
   "metadata": {},
   "outputs": [],
   "source": [
    "import pandas as pd\n",
    "pd.options.display.max_rows = 10"
   ]
  },
  {
   "cell_type": "markdown",
   "metadata": {},
   "source": [
    "## Use method chaining\n",
    "\n",
    "Compare the following two stories (credit to [Jeff Allen](http://trestletech.com/wp-content/uploads/2015/07/dplyr.pdf))\n",
    "\n",
    "First,\n",
    "\n",
    "```python\n",
    "on_hill = went_up(jack_jill, 'hill')\n",
    "with_water = fetch(on_hill, 'water')\n",
    "fallen = fell_down(with_water, 'jack')\n",
    "broken = broke(fallen, 'jack')\n",
    "after = tmple_after(broken, 'jill')\n",
    "```\n",
    "\n",
    "and second,\n",
    "\n",
    "```python\n",
    "(jack_jill\n",
    "    .went_up(\"hill\")\n",
    "    .fetch(\"water\")\n",
    "    .fell_down(\"jack\")\n",
    "    .broke(\"crown\")\n",
    "    .tumble_after(\"jill\"))\n",
    "```\n",
    "\n",
    "I hope you agree that the second story, written in a method chaining style, is easier to follow. It avoids uninteresting intermediate variables, generally making things easier to read."
   ]
  },
  {
   "cell_type": "markdown",
   "metadata": {},
   "source": [
    "As a concrete example, we'll look at the light pre-procesing done to the `airports` datset following Hadley Wickham's [nycflights13 package](https://github.com/hadley/nycflights13/blob/master/data-raw/airports.R)."
   ]
  },
  {
   "cell_type": "code",
   "execution_count": 2,
   "metadata": {},
   "outputs": [
    {
     "data": {
      "text/html": [
       "<div>\n",
       "<style scoped>\n",
       "    .dataframe tbody tr th:only-of-type {\n",
       "        vertical-align: middle;\n",
       "    }\n",
       "\n",
       "    .dataframe tbody tr th {\n",
       "        vertical-align: top;\n",
       "    }\n",
       "\n",
       "    .dataframe thead th {\n",
       "        text-align: right;\n",
       "    }\n",
       "</style>\n",
       "<table border=\"1\" class=\"dataframe\">\n",
       "  <thead>\n",
       "    <tr style=\"text-align: right;\">\n",
       "      <th></th>\n",
       "      <th>id</th>\n",
       "      <th>name</th>\n",
       "      <th>city</th>\n",
       "      <th>country</th>\n",
       "      <th>faa</th>\n",
       "      <th>icao</th>\n",
       "      <th>lat</th>\n",
       "      <th>lon</th>\n",
       "      <th>alt</th>\n",
       "      <th>tz</th>\n",
       "      <th>dst</th>\n",
       "      <th>tzone</th>\n",
       "    </tr>\n",
       "  </thead>\n",
       "  <tbody>\n",
       "    <tr>\n",
       "      <th>0</th>\n",
       "      <td>1</td>\n",
       "      <td>Goroka</td>\n",
       "      <td>Goroka</td>\n",
       "      <td>Papua New Guinea</td>\n",
       "      <td>GKA</td>\n",
       "      <td>AYGA</td>\n",
       "      <td>-6.081689</td>\n",
       "      <td>145.391881</td>\n",
       "      <td>5282</td>\n",
       "      <td>10.0</td>\n",
       "      <td>U</td>\n",
       "      <td>Pacific/Port_Moresby</td>\n",
       "    </tr>\n",
       "    <tr>\n",
       "      <th>1</th>\n",
       "      <td>2</td>\n",
       "      <td>Madang</td>\n",
       "      <td>Madang</td>\n",
       "      <td>Papua New Guinea</td>\n",
       "      <td>MAG</td>\n",
       "      <td>AYMD</td>\n",
       "      <td>-5.207083</td>\n",
       "      <td>145.788700</td>\n",
       "      <td>20</td>\n",
       "      <td>10.0</td>\n",
       "      <td>U</td>\n",
       "      <td>Pacific/Port_Moresby</td>\n",
       "    </tr>\n",
       "    <tr>\n",
       "      <th>2</th>\n",
       "      <td>3</td>\n",
       "      <td>Mount Hagen</td>\n",
       "      <td>Mount Hagen</td>\n",
       "      <td>Papua New Guinea</td>\n",
       "      <td>HGU</td>\n",
       "      <td>AYMH</td>\n",
       "      <td>-5.826789</td>\n",
       "      <td>144.295861</td>\n",
       "      <td>5388</td>\n",
       "      <td>10.0</td>\n",
       "      <td>U</td>\n",
       "      <td>Pacific/Port_Moresby</td>\n",
       "    </tr>\n",
       "    <tr>\n",
       "      <th>3</th>\n",
       "      <td>4</td>\n",
       "      <td>Nadzab</td>\n",
       "      <td>Nadzab</td>\n",
       "      <td>Papua New Guinea</td>\n",
       "      <td>LAE</td>\n",
       "      <td>AYNZ</td>\n",
       "      <td>-6.569828</td>\n",
       "      <td>146.726242</td>\n",
       "      <td>239</td>\n",
       "      <td>10.0</td>\n",
       "      <td>U</td>\n",
       "      <td>Pacific/Port_Moresby</td>\n",
       "    </tr>\n",
       "    <tr>\n",
       "      <th>4</th>\n",
       "      <td>5</td>\n",
       "      <td>Port Moresby Jacksons Intl</td>\n",
       "      <td>Port Moresby</td>\n",
       "      <td>Papua New Guinea</td>\n",
       "      <td>POM</td>\n",
       "      <td>AYPY</td>\n",
       "      <td>-9.443383</td>\n",
       "      <td>147.220050</td>\n",
       "      <td>146</td>\n",
       "      <td>10.0</td>\n",
       "      <td>U</td>\n",
       "      <td>Pacific/Port_Moresby</td>\n",
       "    </tr>\n",
       "  </tbody>\n",
       "</table>\n",
       "</div>"
      ],
      "text/plain": [
       "   id                        name          city           country  faa  icao  \\\n",
       "0   1                      Goroka        Goroka  Papua New Guinea  GKA  AYGA   \n",
       "1   2                      Madang        Madang  Papua New Guinea  MAG  AYMD   \n",
       "2   3                 Mount Hagen   Mount Hagen  Papua New Guinea  HGU  AYMH   \n",
       "3   4                      Nadzab        Nadzab  Papua New Guinea  LAE  AYNZ   \n",
       "4   5  Port Moresby Jacksons Intl  Port Moresby  Papua New Guinea  POM  AYPY   \n",
       "\n",
       "        lat         lon   alt    tz dst                 tzone  \n",
       "0 -6.081689  145.391881  5282  10.0   U  Pacific/Port_Moresby  \n",
       "1 -5.207083  145.788700    20  10.0   U  Pacific/Port_Moresby  \n",
       "2 -5.826789  144.295861  5388  10.0   U  Pacific/Port_Moresby  \n",
       "3 -6.569828  146.726242   239  10.0   U  Pacific/Port_Moresby  \n",
       "4 -9.443383  147.220050   146  10.0   U  Pacific/Port_Moresby  "
      ]
     },
     "execution_count": 2,
     "metadata": {},
     "output_type": "execute_result"
    }
   ],
   "source": [
    "names = [\"id\", \"name\", \"city\", \"country\", \"faa\", \"icao\", \"lat\", \"lon\", \"alt\", \"tz\", \"dst\", \"tzone\"]\n",
    "\n",
    "airports_raw = pd.read_csv(\"https://raw.githubusercontent.com/hadley/nycflights13/master/data-raw/airports.dat\",\n",
    "                           header=None, names=names)\n",
    "airports_raw.head()"
   ]
  },
  {
   "cell_type": "markdown",
   "metadata": {},
   "source": [
    "We'll do a bit of cleaning up including filtering the rows and columns to the values of interest."
   ]
  },
  {
   "cell_type": "code",
   "execution_count": 3,
   "metadata": {},
   "outputs": [
    {
     "data": {
      "text/html": [
       "<div>\n",
       "<style scoped>\n",
       "    .dataframe tbody tr th:only-of-type {\n",
       "        vertical-align: middle;\n",
       "    }\n",
       "\n",
       "    .dataframe tbody tr th {\n",
       "        vertical-align: top;\n",
       "    }\n",
       "\n",
       "    .dataframe thead th {\n",
       "        text-align: right;\n",
       "    }\n",
       "</style>\n",
       "<table border=\"1\" class=\"dataframe\">\n",
       "  <thead>\n",
       "    <tr style=\"text-align: right;\">\n",
       "      <th></th>\n",
       "      <th>name</th>\n",
       "      <th>lat</th>\n",
       "      <th>lon</th>\n",
       "      <th>alt</th>\n",
       "      <th>tz</th>\n",
       "      <th>dst</th>\n",
       "      <th>tzone</th>\n",
       "    </tr>\n",
       "    <tr>\n",
       "      <th>faa</th>\n",
       "      <th></th>\n",
       "      <th></th>\n",
       "      <th></th>\n",
       "      <th></th>\n",
       "      <th></th>\n",
       "      <th></th>\n",
       "      <th></th>\n",
       "    </tr>\n",
       "  </thead>\n",
       "  <tbody>\n",
       "    <tr>\n",
       "      <th>4I7</th>\n",
       "      <td>Putnam County Airport</td>\n",
       "      <td>39.633556</td>\n",
       "      <td>-86.813806</td>\n",
       "      <td>842</td>\n",
       "      <td>-5.0</td>\n",
       "      <td>U</td>\n",
       "      <td>America/New_York</td>\n",
       "    </tr>\n",
       "    <tr>\n",
       "      <th>C91</th>\n",
       "      <td>Dowagiac Municipal Airport</td>\n",
       "      <td>41.992934</td>\n",
       "      <td>-86.128012</td>\n",
       "      <td>748</td>\n",
       "      <td>-5.0</td>\n",
       "      <td>U</td>\n",
       "      <td>America/New_York</td>\n",
       "    </tr>\n",
       "    <tr>\n",
       "      <th>CDI</th>\n",
       "      <td>Cambridge Municipal Airport</td>\n",
       "      <td>39.975028</td>\n",
       "      <td>-81.577583</td>\n",
       "      <td>799</td>\n",
       "      <td>-5.0</td>\n",
       "      <td>U</td>\n",
       "      <td>America/New_York</td>\n",
       "    </tr>\n",
       "    <tr>\n",
       "      <th>SUE</th>\n",
       "      <td>Door County Cherryland Airport</td>\n",
       "      <td>44.843667</td>\n",
       "      <td>-87.421556</td>\n",
       "      <td>725</td>\n",
       "      <td>-6.0</td>\n",
       "      <td>U</td>\n",
       "      <td>America/Chicago</td>\n",
       "    </tr>\n",
       "    <tr>\n",
       "      <th>0P2</th>\n",
       "      <td>Shoestring Aviation Airfield</td>\n",
       "      <td>39.794824</td>\n",
       "      <td>-76.647191</td>\n",
       "      <td>1000</td>\n",
       "      <td>-5.0</td>\n",
       "      <td>U</td>\n",
       "      <td>America/New_York</td>\n",
       "    </tr>\n",
       "    <tr>\n",
       "      <th>...</th>\n",
       "      <td>...</td>\n",
       "      <td>...</td>\n",
       "      <td>...</td>\n",
       "      <td>...</td>\n",
       "      <td>...</td>\n",
       "      <td>...</td>\n",
       "      <td>...</td>\n",
       "    </tr>\n",
       "    <tr>\n",
       "      <th>UCA</th>\n",
       "      <td>Union Station</td>\n",
       "      <td>43.104167</td>\n",
       "      <td>-75.223333</td>\n",
       "      <td>456</td>\n",
       "      <td>-5.0</td>\n",
       "      <td>A</td>\n",
       "      <td>America/New_York</td>\n",
       "    </tr>\n",
       "    <tr>\n",
       "      <th>CVO</th>\n",
       "      <td>Corvallis Muni</td>\n",
       "      <td>44.506700</td>\n",
       "      <td>-123.291500</td>\n",
       "      <td>250</td>\n",
       "      <td>-8.0</td>\n",
       "      <td>A</td>\n",
       "      <td>America/Los_Angeles</td>\n",
       "    </tr>\n",
       "    <tr>\n",
       "      <th>CWT</th>\n",
       "      <td>Chatsworth Station</td>\n",
       "      <td>34.256944</td>\n",
       "      <td>-118.598889</td>\n",
       "      <td>978</td>\n",
       "      <td>-8.0</td>\n",
       "      <td>A</td>\n",
       "      <td>America/Los_Angeles</td>\n",
       "    </tr>\n",
       "    <tr>\n",
       "      <th>DHB</th>\n",
       "      <td>Deer Harbor Seaplane</td>\n",
       "      <td>48.618397</td>\n",
       "      <td>-123.005960</td>\n",
       "      <td>0</td>\n",
       "      <td>-8.0</td>\n",
       "      <td>A</td>\n",
       "      <td>America/Los_Angeles</td>\n",
       "    </tr>\n",
       "    <tr>\n",
       "      <th>OLT</th>\n",
       "      <td>San Diego Old Town Transit Center</td>\n",
       "      <td>32.755200</td>\n",
       "      <td>-117.199500</td>\n",
       "      <td>0</td>\n",
       "      <td>-8.0</td>\n",
       "      <td>A</td>\n",
       "      <td>America/Los_Angeles</td>\n",
       "    </tr>\n",
       "  </tbody>\n",
       "</table>\n",
       "<p>1459 rows × 7 columns</p>\n",
       "</div>"
      ],
      "text/plain": [
       "                                  name        lat         lon   alt   tz dst  \\\n",
       "faa                                                                            \n",
       "4I7              Putnam County Airport  39.633556  -86.813806   842 -5.0   U   \n",
       "C91         Dowagiac Municipal Airport  41.992934  -86.128012   748 -5.0   U   \n",
       "CDI        Cambridge Municipal Airport  39.975028  -81.577583   799 -5.0   U   \n",
       "SUE     Door County Cherryland Airport  44.843667  -87.421556   725 -6.0   U   \n",
       "0P2       Shoestring Aviation Airfield  39.794824  -76.647191  1000 -5.0   U   \n",
       "..                                 ...        ...         ...   ...  ...  ..   \n",
       "UCA                      Union Station  43.104167  -75.223333   456 -5.0   A   \n",
       "CVO                     Corvallis Muni  44.506700 -123.291500   250 -8.0   A   \n",
       "CWT                 Chatsworth Station  34.256944 -118.598889   978 -8.0   A   \n",
       "DHB               Deer Harbor Seaplane  48.618397 -123.005960     0 -8.0   A   \n",
       "OLT  San Diego Old Town Transit Center  32.755200 -117.199500     0 -8.0   A   \n",
       "\n",
       "                   tzone  \n",
       "faa                       \n",
       "4I7     America/New_York  \n",
       "C91     America/New_York  \n",
       "CDI     America/New_York  \n",
       "SUE      America/Chicago  \n",
       "0P2     America/New_York  \n",
       "..                   ...  \n",
       "UCA     America/New_York  \n",
       "CVO  America/Los_Angeles  \n",
       "CWT  America/Los_Angeles  \n",
       "DHB  America/Los_Angeles  \n",
       "OLT  America/Los_Angeles  \n",
       "\n",
       "[1459 rows x 7 columns]"
      ]
     },
     "execution_count": 3,
     "metadata": {},
     "output_type": "execute_result"
    }
   ],
   "source": [
    "airports = (\n",
    "    airports_raw\n",
    "        .loc[lambda df: (df['country'] == 'United States') & (df['faa'] != '')]\n",
    "        [['faa', 'name', 'lat', 'lon', 'alt', 'tz', 'dst', 'tzone']]\n",
    "        .drop_duplicates(subset=\"faa\")\n",
    "        .set_index(\"faa\")\n",
    ")\n",
    "airports"
   ]
  },
  {
   "cell_type": "markdown",
   "metadata": {},
   "source": [
    "Most Series or DataFrame methods return a new Series or DataFrame, encouraging this method chaining style. Some notable methods include\n",
    "\n",
    "1. :meth:`DataFrame.assign`\n",
    "2. :meth:`DataFrame.loc`, :meth:`DataFrame.iloc`, :meth:`DataFrame.where`, and ``DataFrame.__getitem__`.\n",
    "3. :meth:`DataFrame.pipe`\n",
    "\n",
    "One thing to note, the `assign` and indexing methods will accept callables, which you use to refer to the previous link in the method chain. Consider translating an imperative string of operations like\n",
    "\n",
    "```python\n",
    "df1 = pd.read_csv(...)\n",
    "df1['foo'] = df1['foo'].str.upper()\n",
    "df1 = df1.loc[df['bar'] > 3]\n",
    "```\n",
    "\n",
    "to method chaining style. You'd use callables, often `lambda` functions, to refer to `df1` in subsequent operations.\n",
    "\n",
    "```python\n",
    "df = (\n",
    "    pd.read_csv(...)\n",
    "    .assign(foo=lambda df: df[\"foo\"].str.upper())\n",
    "    .loc[lambda df: df[\"bar\"] > 3]\n",
    ")\n",
    "```\n",
    "\n",
    "Finally, pandas provides an escape hatch through the `.pipe` method. With `.pipe`, you can provide any callable that expects a DataFrame (or Series) as it's first argument. For example, we could implement a function approximating the great circle distance between some airport `to` and the rest."
   ]
  },
  {
   "cell_type": "code",
   "execution_count": 4,
   "metadata": {},
   "outputs": [],
   "source": [
    "import numpy as np\n",
    "\n",
    "\n",
    "def great_circle_distance(df, to=\"DSM\"):\n",
    "    # https://www.johndcook.com/blog/python_longitude_latitude/\n",
    "    df = df.copy()\n",
    "    lat = np.deg2rad(90 - df['lat'])\n",
    "    lon = np.deg2rad(90 - df['lon'])\n",
    "    \n",
    "    to_lat, to_lon = df.loc[to, ['lat', 'lon']]\n",
    "    cos = (np.sin(lat) * np.sin(to_lat) * np.cos(lon - to_lon) +\n",
    "           np.cos(lat) * np.cos(to_lat))\n",
    "           \n",
    "    arc = np.arccos(cos)\n",
    "    kilometers = 6373 * cos\n",
    "    df[f'km_to_{to}'] = kilometers\n",
    "    return df"
   ]
  },
  {
   "cell_type": "code",
   "execution_count": 5,
   "metadata": {},
   "outputs": [
    {
     "data": {
      "text/html": [
       "<div>\n",
       "<style scoped>\n",
       "    .dataframe tbody tr th:only-of-type {\n",
       "        vertical-align: middle;\n",
       "    }\n",
       "\n",
       "    .dataframe tbody tr th {\n",
       "        vertical-align: top;\n",
       "    }\n",
       "\n",
       "    .dataframe thead th {\n",
       "        text-align: right;\n",
       "    }\n",
       "</style>\n",
       "<table border=\"1\" class=\"dataframe\">\n",
       "  <thead>\n",
       "    <tr style=\"text-align: right;\">\n",
       "      <th></th>\n",
       "      <th>name</th>\n",
       "      <th>lat</th>\n",
       "      <th>lon</th>\n",
       "      <th>alt</th>\n",
       "      <th>tz</th>\n",
       "      <th>dst</th>\n",
       "      <th>tzone</th>\n",
       "      <th>km_to_DSM</th>\n",
       "    </tr>\n",
       "    <tr>\n",
       "      <th>faa</th>\n",
       "      <th></th>\n",
       "      <th></th>\n",
       "      <th></th>\n",
       "      <th></th>\n",
       "      <th></th>\n",
       "      <th></th>\n",
       "      <th></th>\n",
       "      <th></th>\n",
       "    </tr>\n",
       "  </thead>\n",
       "  <tbody>\n",
       "    <tr>\n",
       "      <th>4I7</th>\n",
       "      <td>Putnam County Airport</td>\n",
       "      <td>39.633556</td>\n",
       "      <td>-86.813806</td>\n",
       "      <td>842</td>\n",
       "      <td>-5.0</td>\n",
       "      <td>U</td>\n",
       "      <td>America/New_York</td>\n",
       "      <td>-611.548347</td>\n",
       "    </tr>\n",
       "    <tr>\n",
       "      <th>C91</th>\n",
       "      <td>Dowagiac Municipal Airport</td>\n",
       "      <td>41.992934</td>\n",
       "      <td>-86.128012</td>\n",
       "      <td>748</td>\n",
       "      <td>-5.0</td>\n",
       "      <td>U</td>\n",
       "      <td>America/New_York</td>\n",
       "      <td>-874.022782</td>\n",
       "    </tr>\n",
       "    <tr>\n",
       "      <th>CDI</th>\n",
       "      <td>Cambridge Municipal Airport</td>\n",
       "      <td>39.975028</td>\n",
       "      <td>-81.577583</td>\n",
       "      <td>799</td>\n",
       "      <td>-5.0</td>\n",
       "      <td>U</td>\n",
       "      <td>America/New_York</td>\n",
       "      <td>-827.065264</td>\n",
       "    </tr>\n",
       "    <tr>\n",
       "      <th>SUE</th>\n",
       "      <td>Door County Cherryland Airport</td>\n",
       "      <td>44.843667</td>\n",
       "      <td>-87.421556</td>\n",
       "      <td>725</td>\n",
       "      <td>-6.0</td>\n",
       "      <td>U</td>\n",
       "      <td>America/Chicago</td>\n",
       "      <td>-1122.842947</td>\n",
       "    </tr>\n",
       "    <tr>\n",
       "      <th>0P2</th>\n",
       "      <td>Shoestring Aviation Airfield</td>\n",
       "      <td>39.794824</td>\n",
       "      <td>-76.647191</td>\n",
       "      <td>1000</td>\n",
       "      <td>-5.0</td>\n",
       "      <td>U</td>\n",
       "      <td>America/New_York</td>\n",
       "      <td>-997.427349</td>\n",
       "    </tr>\n",
       "    <tr>\n",
       "      <th>...</th>\n",
       "      <td>...</td>\n",
       "      <td>...</td>\n",
       "      <td>...</td>\n",
       "      <td>...</td>\n",
       "      <td>...</td>\n",
       "      <td>...</td>\n",
       "      <td>...</td>\n",
       "      <td>...</td>\n",
       "    </tr>\n",
       "    <tr>\n",
       "      <th>UCA</th>\n",
       "      <td>Union Station</td>\n",
       "      <td>43.104167</td>\n",
       "      <td>-75.223333</td>\n",
       "      <td>456</td>\n",
       "      <td>-5.0</td>\n",
       "      <td>A</td>\n",
       "      <td>America/New_York</td>\n",
       "      <td>-1370.623054</td>\n",
       "    </tr>\n",
       "    <tr>\n",
       "      <th>CVO</th>\n",
       "      <td>Corvallis Muni</td>\n",
       "      <td>44.506700</td>\n",
       "      <td>-123.291500</td>\n",
       "      <td>250</td>\n",
       "      <td>-8.0</td>\n",
       "      <td>A</td>\n",
       "      <td>America/Los_Angeles</td>\n",
       "      <td>-531.679746</td>\n",
       "    </tr>\n",
       "    <tr>\n",
       "      <th>CWT</th>\n",
       "      <td>Chatsworth Station</td>\n",
       "      <td>34.256944</td>\n",
       "      <td>-118.598889</td>\n",
       "      <td>978</td>\n",
       "      <td>-8.0</td>\n",
       "      <td>A</td>\n",
       "      <td>America/Los_Angeles</td>\n",
       "      <td>594.567494</td>\n",
       "    </tr>\n",
       "    <tr>\n",
       "      <th>DHB</th>\n",
       "      <td>Deer Harbor Seaplane</td>\n",
       "      <td>48.618397</td>\n",
       "      <td>-123.005960</td>\n",
       "      <td>0</td>\n",
       "      <td>-8.0</td>\n",
       "      <td>A</td>\n",
       "      <td>America/Los_Angeles</td>\n",
       "      <td>-985.750406</td>\n",
       "    </tr>\n",
       "    <tr>\n",
       "      <th>OLT</th>\n",
       "      <td>San Diego Old Town Transit Center</td>\n",
       "      <td>32.755200</td>\n",
       "      <td>-117.199500</td>\n",
       "      <td>0</td>\n",
       "      <td>-8.0</td>\n",
       "      <td>A</td>\n",
       "      <td>America/Los_Angeles</td>\n",
       "      <td>752.239018</td>\n",
       "    </tr>\n",
       "  </tbody>\n",
       "</table>\n",
       "<p>1459 rows × 8 columns</p>\n",
       "</div>"
      ],
      "text/plain": [
       "                                  name        lat         lon   alt   tz dst  \\\n",
       "faa                                                                            \n",
       "4I7              Putnam County Airport  39.633556  -86.813806   842 -5.0   U   \n",
       "C91         Dowagiac Municipal Airport  41.992934  -86.128012   748 -5.0   U   \n",
       "CDI        Cambridge Municipal Airport  39.975028  -81.577583   799 -5.0   U   \n",
       "SUE     Door County Cherryland Airport  44.843667  -87.421556   725 -6.0   U   \n",
       "0P2       Shoestring Aviation Airfield  39.794824  -76.647191  1000 -5.0   U   \n",
       "..                                 ...        ...         ...   ...  ...  ..   \n",
       "UCA                      Union Station  43.104167  -75.223333   456 -5.0   A   \n",
       "CVO                     Corvallis Muni  44.506700 -123.291500   250 -8.0   A   \n",
       "CWT                 Chatsworth Station  34.256944 -118.598889   978 -8.0   A   \n",
       "DHB               Deer Harbor Seaplane  48.618397 -123.005960     0 -8.0   A   \n",
       "OLT  San Diego Old Town Transit Center  32.755200 -117.199500     0 -8.0   A   \n",
       "\n",
       "                   tzone    km_to_DSM  \n",
       "faa                                    \n",
       "4I7     America/New_York  -611.548347  \n",
       "C91     America/New_York  -874.022782  \n",
       "CDI     America/New_York  -827.065264  \n",
       "SUE      America/Chicago -1122.842947  \n",
       "0P2     America/New_York  -997.427349  \n",
       "..                   ...          ...  \n",
       "UCA     America/New_York -1370.623054  \n",
       "CVO  America/Los_Angeles  -531.679746  \n",
       "CWT  America/Los_Angeles   594.567494  \n",
       "DHB  America/Los_Angeles  -985.750406  \n",
       "OLT  America/Los_Angeles   752.239018  \n",
       "\n",
       "[1459 rows x 8 columns]"
      ]
     },
     "execution_count": 5,
     "metadata": {},
     "output_type": "execute_result"
    }
   ],
   "source": [
    "great_circle_distance(airports)"
   ]
  },
  {
   "cell_type": "markdown",
   "metadata": {},
   "source": [
    "Notice that our custom `great_circle_distance` function further encourages method chaining by returning a DataFrame itself.\n",
    "\n",
    "Appending that to our original method chain, that would be\n",
    "\n",
    "```python\n",
    "airports = (\n",
    "    airports_raw\n",
    "        .loc[lambda df: (df['country'] == 'United States') & (df['faa'] != '')]\n",
    "        [['faa', 'name', 'lat', 'lon', 'alt', 'tz', 'dst', 'tzone']]\n",
    "        .drop_duplicates(subset=\"faa\")\n",
    "        .set_index(\"faa\")\n",
    "        .pipe(gcd)\n",
    ")\n",
    "```\n",
    "\n",
    "Additional keyword arguments passed to `.pipe` are passed through to the callable.\n",
    "\n",
    "```python\n",
    "airports = (\n",
    "    ...\n",
    "    .pipe(gcd, to=\"ORD\")\n",
    ")\n",
    "```"
   ]
  },
  {
   "cell_type": "markdown",
   "metadata": {},
   "source": [
    "## Use Meaningful Labels"
   ]
  },
  {
   "cell_type": "markdown",
   "metadata": {},
   "source": [
    "Every Series and DataFrame has a `.index` property storing the *row labels*.\n",
    "Additionally, DataFrame has the `.columns` property for storing *column labels*.\n",
    "\n",
    "We recommend that you use meaningful labels. Pandas most fundamental operations are all based around the idea of *alignment by label*. Constructors, binary options (`add`, `mul`, etc.), reshaping (`concat`), etc. all align before doing an operation.\n",
    "\n",
    "Let's consider a dummy example computing population density from two datasets (https://jakevdp.github.io/PythonDataScienceHandbook/03.03-operations-in-pandas.html)."
   ]
  },
  {
   "cell_type": "code",
   "execution_count": 13,
   "metadata": {},
   "outputs": [
    {
     "data": {
      "text/html": [
       "<div>\n",
       "<style scoped>\n",
       "    .dataframe tbody tr th:only-of-type {\n",
       "        vertical-align: middle;\n",
       "    }\n",
       "\n",
       "    .dataframe tbody tr th {\n",
       "        vertical-align: top;\n",
       "    }\n",
       "\n",
       "    .dataframe thead th {\n",
       "        text-align: right;\n",
       "    }\n",
       "</style>\n",
       "<table border=\"1\" class=\"dataframe\">\n",
       "  <thead>\n",
       "    <tr style=\"text-align: right;\">\n",
       "      <th></th>\n",
       "      <th>state</th>\n",
       "      <th>area</th>\n",
       "    </tr>\n",
       "  </thead>\n",
       "  <tbody>\n",
       "    <tr>\n",
       "      <th>0</th>\n",
       "      <td>Alaska</td>\n",
       "      <td>1723337</td>\n",
       "    </tr>\n",
       "    <tr>\n",
       "      <th>1</th>\n",
       "      <td>Texas</td>\n",
       "      <td>695662</td>\n",
       "    </tr>\n",
       "    <tr>\n",
       "      <th>2</th>\n",
       "      <td>California</td>\n",
       "      <td>423967</td>\n",
       "    </tr>\n",
       "  </tbody>\n",
       "</table>\n",
       "</div>"
      ],
      "text/plain": [
       "        state     area\n",
       "0      Alaska  1723337\n",
       "1       Texas   695662\n",
       "2  California   423967"
      ]
     },
     "execution_count": 13,
     "metadata": {},
     "output_type": "execute_result"
    }
   ],
   "source": [
    "area = pd.DataFrame([\n",
    "    ('Alaska', 1723337),\n",
    "    ('Texas', 695662),\n",
    "    ('California', 423967)\n",
    "], columns=['state', 'area'])\n",
    "area"
   ]
  },
  {
   "cell_type": "code",
   "execution_count": 12,
   "metadata": {},
   "outputs": [
    {
     "data": {
      "text/html": [
       "<div>\n",
       "<style scoped>\n",
       "    .dataframe tbody tr th:only-of-type {\n",
       "        vertical-align: middle;\n",
       "    }\n",
       "\n",
       "    .dataframe tbody tr th {\n",
       "        vertical-align: top;\n",
       "    }\n",
       "\n",
       "    .dataframe thead th {\n",
       "        text-align: right;\n",
       "    }\n",
       "</style>\n",
       "<table border=\"1\" class=\"dataframe\">\n",
       "  <thead>\n",
       "    <tr style=\"text-align: right;\">\n",
       "      <th></th>\n",
       "      <th>state</th>\n",
       "      <th>population</th>\n",
       "    </tr>\n",
       "  </thead>\n",
       "  <tbody>\n",
       "    <tr>\n",
       "      <th>0</th>\n",
       "      <td>California</td>\n",
       "      <td>38332521</td>\n",
       "    </tr>\n",
       "    <tr>\n",
       "      <th>1</th>\n",
       "      <td>Texas</td>\n",
       "      <td>26448193</td>\n",
       "    </tr>\n",
       "    <tr>\n",
       "      <th>2</th>\n",
       "      <td>New York</td>\n",
       "      <td>19651127</td>\n",
       "    </tr>\n",
       "  </tbody>\n",
       "</table>\n",
       "</div>"
      ],
      "text/plain": [
       "        state  population\n",
       "0  California    38332521\n",
       "1       Texas    26448193\n",
       "2    New York    19651127"
      ]
     },
     "execution_count": 12,
     "metadata": {},
     "output_type": "execute_result"
    }
   ],
   "source": [
    "population = pd.DataFrame([\n",
    "    ('California', 38332521),\n",
    "    ('Texas', 26448193),\n",
    "    ('New York', 19651127),\n",
    "], columns=['state', 'population'])\n",
    "population"
   ]
  },
  {
   "cell_type": "markdown",
   "metadata": {},
   "source": [
    "If we naively divide the population column by the area column, we get incorrect results."
   ]
  },
  {
   "cell_type": "code",
   "execution_count": 17,
   "metadata": {},
   "outputs": [
    {
     "data": {
      "text/plain": [
       "0    22.243195\n",
       "1    38.018740\n",
       "2    46.350605\n",
       "dtype: float64"
      ]
     },
     "execution_count": 17,
     "metadata": {},
     "output_type": "execute_result"
    }
   ],
   "source": [
    "population['population'] / area['area']"
   ]
  },
  {
   "cell_type": "markdown",
   "metadata": {},
   "source": [
    "It'd be better to model this data as two Series, each with the `state` as its index."
   ]
  },
  {
   "cell_type": "code",
   "execution_count": 19,
   "metadata": {},
   "outputs": [
    {
     "data": {
      "text/plain": [
       "state\n",
       "Alaska              NaN\n",
       "California    90.413926\n",
       "New York            NaN\n",
       "Texas         38.018740\n",
       "dtype: float64"
      ]
     },
     "execution_count": 19,
     "metadata": {},
     "output_type": "execute_result"
    }
   ],
   "source": [
    "area_ = area.set_index(\"state\")['area']\n",
    "population_ = population.set_index(\"state\")[\"population\"]\n",
    "population_ / area_"
   ]
  },
  {
   "cell_type": "markdown",
   "metadata": {},
   "source": [
    "Pandas uses row (and, for DataFrames, column labels) to align the data before doing the operation."
   ]
  },
  {
   "cell_type": "markdown",
   "metadata": {},
   "source": [
    "## Avoid duplicate row and column labels\n",
    "\n",
    "One of pandas' primary roles is to help clean up messy tabular data. As such, it needs to support duplicates in the row labels. That does not mean, however, that you should allow duplicates to stick around; we recommend addressing duplicate labels as early as possible to avoid surpsises later on. Consider one of the most basic opertions: indexing. Duplicate labels can change the behavior in surprising ways.\n",
    "\n",
    "Pandas follows the NumPy tradition of *reducing dimensionality* when indexing. Slicing a row from a 2-D array returns a 1-D array. Slicing a row and a column returns a scalar. Similarly with pandas."
   ]
  },
  {
   "cell_type": "code",
   "execution_count": 20,
   "metadata": {},
   "outputs": [
    {
     "data": {
      "text/plain": [
       "faa\n",
       "4I7                Putnam County Airport\n",
       "C91           Dowagiac Municipal Airport\n",
       "CDI          Cambridge Municipal Airport\n",
       "SUE       Door County Cherryland Airport\n",
       "0P2         Shoestring Aviation Airfield\n",
       "                     ...                \n",
       "UCA                        Union Station\n",
       "CVO                       Corvallis Muni\n",
       "CWT                   Chatsworth Station\n",
       "DHB                 Deer Harbor Seaplane\n",
       "OLT    San Diego Old Town Transit Center\n",
       "Name: name, Length: 1459, dtype: object"
      ]
     },
     "execution_count": 20,
     "metadata": {},
     "output_type": "execute_result"
    }
   ],
   "source": [
    "airports['name']"
   ]
  },
  {
   "cell_type": "code",
   "execution_count": 21,
   "metadata": {},
   "outputs": [
    {
     "data": {
      "text/plain": [
       "'Beaufort'"
      ]
     },
     "execution_count": 21,
     "metadata": {},
     "output_type": "execute_result"
    }
   ],
   "source": [
    "airports.loc['BFT', 'name']"
   ]
  },
  {
   "cell_type": "markdown",
   "metadata": {},
   "source": [
    "But, when there are duplicates in the index, it's no longer possible to reduce dimensionality."
   ]
  },
  {
   "cell_type": "code",
   "execution_count": 22,
   "metadata": {},
   "outputs": [
    {
     "data": {
      "text/html": [
       "<div>\n",
       "<style scoped>\n",
       "    .dataframe tbody tr th:only-of-type {\n",
       "        vertical-align: middle;\n",
       "    }\n",
       "\n",
       "    .dataframe tbody tr th {\n",
       "        vertical-align: top;\n",
       "    }\n",
       "\n",
       "    .dataframe thead th {\n",
       "        text-align: right;\n",
       "    }\n",
       "</style>\n",
       "<table border=\"1\" class=\"dataframe\">\n",
       "  <thead>\n",
       "    <tr style=\"text-align: right;\">\n",
       "      <th></th>\n",
       "      <th>id</th>\n",
       "      <th>name</th>\n",
       "      <th>city</th>\n",
       "      <th>country</th>\n",
       "      <th>icao</th>\n",
       "      <th>lat</th>\n",
       "      <th>lon</th>\n",
       "      <th>alt</th>\n",
       "      <th>tz</th>\n",
       "      <th>dst</th>\n",
       "      <th>tzone</th>\n",
       "    </tr>\n",
       "    <tr>\n",
       "      <th>faa</th>\n",
       "      <th></th>\n",
       "      <th></th>\n",
       "      <th></th>\n",
       "      <th></th>\n",
       "      <th></th>\n",
       "      <th></th>\n",
       "      <th></th>\n",
       "      <th></th>\n",
       "      <th></th>\n",
       "      <th></th>\n",
       "      <th></th>\n",
       "    </tr>\n",
       "  </thead>\n",
       "  <tbody>\n",
       "    <tr>\n",
       "      <th>BFT</th>\n",
       "      <td>3769</td>\n",
       "      <td>Beaufort</td>\n",
       "      <td>Beaufort</td>\n",
       "      <td>United States</td>\n",
       "      <td>KNBC</td>\n",
       "      <td>32.477411</td>\n",
       "      <td>-80.723161</td>\n",
       "      <td>37</td>\n",
       "      <td>-5.0</td>\n",
       "      <td>A</td>\n",
       "      <td>America/New_York</td>\n",
       "    </tr>\n",
       "    <tr>\n",
       "      <th>BFT</th>\n",
       "      <td>7049</td>\n",
       "      <td>BFT County Airport</td>\n",
       "      <td>Beauford</td>\n",
       "      <td>United States</td>\n",
       "      <td>KBFT</td>\n",
       "      <td>32.410830</td>\n",
       "      <td>-80.635000</td>\n",
       "      <td>500</td>\n",
       "      <td>-5.0</td>\n",
       "      <td>A</td>\n",
       "      <td>America/New_York</td>\n",
       "    </tr>\n",
       "  </tbody>\n",
       "</table>\n",
       "</div>"
      ],
      "text/plain": [
       "       id                name      city        country  icao        lat  \\\n",
       "faa                                                                       \n",
       "BFT  3769            Beaufort  Beaufort  United States  KNBC  32.477411   \n",
       "BFT  7049  BFT County Airport  Beauford  United States  KBFT  32.410830   \n",
       "\n",
       "           lon  alt   tz dst             tzone  \n",
       "faa                                             \n",
       "BFT -80.723161   37 -5.0   A  America/New_York  \n",
       "BFT -80.635000  500 -5.0   A  America/New_York  "
      ]
     },
     "execution_count": 22,
     "metadata": {},
     "output_type": "execute_result"
    }
   ],
   "source": [
    "airports_raw.set_index('faa').loc['BFT']"
   ]
  },
  {
   "cell_type": "markdown",
   "metadata": {},
   "source": [
    "In this case, there are *two* rows with the code `FAA`, meaning the `.loc['BFT']` returns a DataFrame, rather than a Series."
   ]
  },
  {
   "cell_type": "markdown",
   "metadata": {},
   "source": [
    "## Avoid Inplace Operations\n",
    "\n",
    "For many operations, Pandas current memory model doesn't allow true inplace (zero copy) operations.\n",
    "The reasons are complicated, and we hope to address them someday, but the upshot is that \n",
    "\n",
    "Consider :meth:`DataFrame.fillna`. That requires checking for missing values and applying a boolean mask, selecting just the rows with no NA values. Even in NumPy, boolean indexing takes a copy of the data, and not a view."
   ]
  },
  {
   "cell_type": "code",
   "execution_count": 37,
   "metadata": {},
   "outputs": [
    {
     "data": {
      "text/html": [
       "<div>\n",
       "<style scoped>\n",
       "    .dataframe tbody tr th:only-of-type {\n",
       "        vertical-align: middle;\n",
       "    }\n",
       "\n",
       "    .dataframe tbody tr th {\n",
       "        vertical-align: top;\n",
       "    }\n",
       "\n",
       "    .dataframe thead th {\n",
       "        text-align: right;\n",
       "    }\n",
       "</style>\n",
       "<table border=\"1\" class=\"dataframe\">\n",
       "  <thead>\n",
       "    <tr style=\"text-align: right;\">\n",
       "      <th></th>\n",
       "      <th>id</th>\n",
       "      <th>name</th>\n",
       "      <th>city</th>\n",
       "      <th>country</th>\n",
       "      <th>faa</th>\n",
       "      <th>icao</th>\n",
       "      <th>lat</th>\n",
       "      <th>lon</th>\n",
       "      <th>alt</th>\n",
       "      <th>tz</th>\n",
       "      <th>dst</th>\n",
       "      <th>tzone</th>\n",
       "    </tr>\n",
       "  </thead>\n",
       "  <tbody>\n",
       "    <tr>\n",
       "      <th>0</th>\n",
       "      <td>1</td>\n",
       "      <td>Goroka</td>\n",
       "      <td>Goroka</td>\n",
       "      <td>Papua New Guinea</td>\n",
       "      <td>GKA</td>\n",
       "      <td>AYGA</td>\n",
       "      <td>-6.081689</td>\n",
       "      <td>145.391881</td>\n",
       "      <td>5282</td>\n",
       "      <td>10.0</td>\n",
       "      <td>U</td>\n",
       "      <td>Pacific/Port_Moresby</td>\n",
       "    </tr>\n",
       "    <tr>\n",
       "      <th>1</th>\n",
       "      <td>2</td>\n",
       "      <td>Madang</td>\n",
       "      <td>Madang</td>\n",
       "      <td>Papua New Guinea</td>\n",
       "      <td>MAG</td>\n",
       "      <td>AYMD</td>\n",
       "      <td>-5.207083</td>\n",
       "      <td>145.788700</td>\n",
       "      <td>20</td>\n",
       "      <td>10.0</td>\n",
       "      <td>U</td>\n",
       "      <td>Pacific/Port_Moresby</td>\n",
       "    </tr>\n",
       "    <tr>\n",
       "      <th>2</th>\n",
       "      <td>3</td>\n",
       "      <td>Mount Hagen</td>\n",
       "      <td>Mount Hagen</td>\n",
       "      <td>Papua New Guinea</td>\n",
       "      <td>HGU</td>\n",
       "      <td>AYMH</td>\n",
       "      <td>-5.826789</td>\n",
       "      <td>144.295861</td>\n",
       "      <td>5388</td>\n",
       "      <td>10.0</td>\n",
       "      <td>U</td>\n",
       "      <td>Pacific/Port_Moresby</td>\n",
       "    </tr>\n",
       "    <tr>\n",
       "      <th>3</th>\n",
       "      <td>4</td>\n",
       "      <td>Nadzab</td>\n",
       "      <td>Nadzab</td>\n",
       "      <td>Papua New Guinea</td>\n",
       "      <td>LAE</td>\n",
       "      <td>AYNZ</td>\n",
       "      <td>-6.569828</td>\n",
       "      <td>146.726242</td>\n",
       "      <td>239</td>\n",
       "      <td>10.0</td>\n",
       "      <td>U</td>\n",
       "      <td>Pacific/Port_Moresby</td>\n",
       "    </tr>\n",
       "    <tr>\n",
       "      <th>4</th>\n",
       "      <td>5</td>\n",
       "      <td>Port Moresby Jacksons Intl</td>\n",
       "      <td>Port Moresby</td>\n",
       "      <td>Papua New Guinea</td>\n",
       "      <td>POM</td>\n",
       "      <td>AYPY</td>\n",
       "      <td>-9.443383</td>\n",
       "      <td>147.220050</td>\n",
       "      <td>146</td>\n",
       "      <td>10.0</td>\n",
       "      <td>U</td>\n",
       "      <td>Pacific/Port_Moresby</td>\n",
       "    </tr>\n",
       "    <tr>\n",
       "      <th>...</th>\n",
       "      <td>...</td>\n",
       "      <td>...</td>\n",
       "      <td>...</td>\n",
       "      <td>...</td>\n",
       "      <td>...</td>\n",
       "      <td>...</td>\n",
       "      <td>...</td>\n",
       "      <td>...</td>\n",
       "      <td>...</td>\n",
       "      <td>...</td>\n",
       "      <td>...</td>\n",
       "      <td>...</td>\n",
       "    </tr>\n",
       "    <tr>\n",
       "      <th>8102</th>\n",
       "      <td>9537</td>\n",
       "      <td>Mansons Landing Water Aerodrome</td>\n",
       "      <td>Mansons Landing</td>\n",
       "      <td>Canada</td>\n",
       "      <td>YMU</td>\n",
       "      <td>\\N</td>\n",
       "      <td>50.066667</td>\n",
       "      <td>-124.983333</td>\n",
       "      <td>0</td>\n",
       "      <td>-8.0</td>\n",
       "      <td>A</td>\n",
       "      <td>America/Vancouver</td>\n",
       "    </tr>\n",
       "    <tr>\n",
       "      <th>8103</th>\n",
       "      <td>9538</td>\n",
       "      <td>Port McNeill Airport</td>\n",
       "      <td>Port McNeill</td>\n",
       "      <td>Canada</td>\n",
       "      <td>YMP</td>\n",
       "      <td>\\N</td>\n",
       "      <td>50.575556</td>\n",
       "      <td>-127.028611</td>\n",
       "      <td>225</td>\n",
       "      <td>-8.0</td>\n",
       "      <td>A</td>\n",
       "      <td>America/Vancouver</td>\n",
       "    </tr>\n",
       "    <tr>\n",
       "      <th>8104</th>\n",
       "      <td>9539</td>\n",
       "      <td>Sullivan Bay Water Aerodrome</td>\n",
       "      <td>Sullivan Bay</td>\n",
       "      <td>Canada</td>\n",
       "      <td>YTG</td>\n",
       "      <td>\\N</td>\n",
       "      <td>50.883333</td>\n",
       "      <td>-126.833333</td>\n",
       "      <td>0</td>\n",
       "      <td>-8.0</td>\n",
       "      <td>A</td>\n",
       "      <td>America/Vancouver</td>\n",
       "    </tr>\n",
       "    <tr>\n",
       "      <th>8105</th>\n",
       "      <td>9540</td>\n",
       "      <td>Deer Harbor Seaplane</td>\n",
       "      <td>Deer Harbor</td>\n",
       "      <td>United States</td>\n",
       "      <td>DHB</td>\n",
       "      <td>\\N</td>\n",
       "      <td>48.618397</td>\n",
       "      <td>-123.005960</td>\n",
       "      <td>0</td>\n",
       "      <td>-8.0</td>\n",
       "      <td>A</td>\n",
       "      <td>America/Los_Angeles</td>\n",
       "    </tr>\n",
       "    <tr>\n",
       "      <th>8106</th>\n",
       "      <td>9541</td>\n",
       "      <td>San Diego Old Town Transit Center</td>\n",
       "      <td>San Diego</td>\n",
       "      <td>United States</td>\n",
       "      <td>OLT</td>\n",
       "      <td>\\N</td>\n",
       "      <td>32.755200</td>\n",
       "      <td>-117.199500</td>\n",
       "      <td>0</td>\n",
       "      <td>-8.0</td>\n",
       "      <td>A</td>\n",
       "      <td>America/Los_Angeles</td>\n",
       "    </tr>\n",
       "  </tbody>\n",
       "</table>\n",
       "<p>5817 rows × 12 columns</p>\n",
       "</div>"
      ],
      "text/plain": [
       "        id                               name             city  \\\n",
       "0        1                             Goroka           Goroka   \n",
       "1        2                             Madang           Madang   \n",
       "2        3                        Mount Hagen      Mount Hagen   \n",
       "3        4                             Nadzab           Nadzab   \n",
       "4        5         Port Moresby Jacksons Intl     Port Moresby   \n",
       "...    ...                                ...              ...   \n",
       "8102  9537    Mansons Landing Water Aerodrome  Mansons Landing   \n",
       "8103  9538               Port McNeill Airport     Port McNeill   \n",
       "8104  9539       Sullivan Bay Water Aerodrome     Sullivan Bay   \n",
       "8105  9540               Deer Harbor Seaplane      Deer Harbor   \n",
       "8106  9541  San Diego Old Town Transit Center        San Diego   \n",
       "\n",
       "               country  faa  icao        lat         lon   alt    tz dst  \\\n",
       "0     Papua New Guinea  GKA  AYGA  -6.081689  145.391881  5282  10.0   U   \n",
       "1     Papua New Guinea  MAG  AYMD  -5.207083  145.788700    20  10.0   U   \n",
       "2     Papua New Guinea  HGU  AYMH  -5.826789  144.295861  5388  10.0   U   \n",
       "3     Papua New Guinea  LAE  AYNZ  -6.569828  146.726242   239  10.0   U   \n",
       "4     Papua New Guinea  POM  AYPY  -9.443383  147.220050   146  10.0   U   \n",
       "...                ...  ...   ...        ...         ...   ...   ...  ..   \n",
       "8102            Canada  YMU    \\N  50.066667 -124.983333     0  -8.0   A   \n",
       "8103            Canada  YMP    \\N  50.575556 -127.028611   225  -8.0   A   \n",
       "8104            Canada  YTG    \\N  50.883333 -126.833333     0  -8.0   A   \n",
       "8105     United States  DHB    \\N  48.618397 -123.005960     0  -8.0   A   \n",
       "8106     United States  OLT    \\N  32.755200 -117.199500     0  -8.0   A   \n",
       "\n",
       "                     tzone  \n",
       "0     Pacific/Port_Moresby  \n",
       "1     Pacific/Port_Moresby  \n",
       "2     Pacific/Port_Moresby  \n",
       "3     Pacific/Port_Moresby  \n",
       "4     Pacific/Port_Moresby  \n",
       "...                    ...  \n",
       "8102     America/Vancouver  \n",
       "8103     America/Vancouver  \n",
       "8104     America/Vancouver  \n",
       "8105   America/Los_Angeles  \n",
       "8106   America/Los_Angeles  \n",
       "\n",
       "[5817 rows x 12 columns]"
      ]
     },
     "execution_count": 37,
     "metadata": {},
     "output_type": "execute_result"
    }
   ],
   "source": [
    "airports_inplace = airports_raw.copy()\n",
    "airports_inplace.dropna(inplace=True)\n",
    "airports_inplace"
   ]
  },
  {
   "cell_type": "markdown",
   "metadata": {},
   "source": [
    "Internally, that essentially does\n",
    "\n",
    "```python\n",
    "def dropna(self, inplace=True):\n",
    "    data = self._data\n",
    "    new_data = drop_missing_values(data)  # creates a copy!\n",
    "    if inplace:\n",
    "        self._data = data\n",
    "    else:\n",
    "        return DataFrame(data)\n",
    "```\n",
    "\n",
    "In other words, the actual operation is the same, regardless of whether `inplace=True` or `inplace=False`. The only difference is whether a new `DataFrame` object is returned, or whether your reference is updated inplace. For these types of methods, the only benefit of `inplace=True` is to avoid having to type the name of your object twice\n",
    "\n",
    "```python\n",
    "really_long_dataframe_name = really_long_dataframe_name.dropna()\n",
    "\n",
    "# vs.\n",
    "\n",
    "really_long_dataframe_name.dropna(inplace=True)\n",
    "```\n",
    "\n",
    "But we recommend using method chaining, which avoids the need to type the name of the object twice in the first place."
   ]
  },
  {
   "cell_type": "markdown",
   "metadata": {},
   "source": [
    "## Avoid iteration, especially `.apply`"
   ]
  },
  {
   "cell_type": "markdown",
   "metadata": {},
   "source": [
    "## Avoid `.values`\n",
    "\n",
    "``DataFrame.values`` is a surprising complex attribute. The main goal is to get a NumPy representation of the data backing the DataFrame. This can be useful if you're doing lower-level numerical operations, or working with a library that needs an ndarray rather than a DataFrame.\n",
    "\n",
    "In the simplest case, ``.values`` really does return a view on the data stored inside a DataFrame."
   ]
  },
  {
   "cell_type": "code",
   "execution_count": 50,
   "metadata": {},
   "outputs": [
    {
     "data": {
      "text/html": [
       "<div>\n",
       "<style scoped>\n",
       "    .dataframe tbody tr th:only-of-type {\n",
       "        vertical-align: middle;\n",
       "    }\n",
       "\n",
       "    .dataframe tbody tr th {\n",
       "        vertical-align: top;\n",
       "    }\n",
       "\n",
       "    .dataframe thead th {\n",
       "        text-align: right;\n",
       "    }\n",
       "</style>\n",
       "<table border=\"1\" class=\"dataframe\">\n",
       "  <thead>\n",
       "    <tr style=\"text-align: right;\">\n",
       "      <th></th>\n",
       "      <th>a</th>\n",
       "      <th>b</th>\n",
       "      <th>c</th>\n",
       "    </tr>\n",
       "  </thead>\n",
       "  <tbody>\n",
       "    <tr>\n",
       "      <th>0</th>\n",
       "      <td>0.033655</td>\n",
       "      <td>1.510416</td>\n",
       "      <td>-0.531118</td>\n",
       "    </tr>\n",
       "    <tr>\n",
       "      <th>1</th>\n",
       "      <td>-0.746052</td>\n",
       "      <td>0.966268</td>\n",
       "      <td>-0.466264</td>\n",
       "    </tr>\n",
       "    <tr>\n",
       "      <th>2</th>\n",
       "      <td>0.665390</td>\n",
       "      <td>0.399909</td>\n",
       "      <td>0.014779</td>\n",
       "    </tr>\n",
       "    <tr>\n",
       "      <th>3</th>\n",
       "      <td>-0.302676</td>\n",
       "      <td>-0.998920</td>\n",
       "      <td>-1.221139</td>\n",
       "    </tr>\n",
       "  </tbody>\n",
       "</table>\n",
       "</div>"
      ],
      "text/plain": [
       "          a         b         c\n",
       "0  0.033655  1.510416 -0.531118\n",
       "1 -0.746052  0.966268 -0.466264\n",
       "2  0.665390  0.399909  0.014779\n",
       "3 -0.302676 -0.998920 -1.221139"
      ]
     },
     "execution_count": 50,
     "metadata": {},
     "output_type": "execute_result"
    }
   ],
   "source": [
    "raw = np.random.randn(4, 3)\n",
    "df = pd.DataFrame(raw, columns=['a', 'b', 'c'])\n",
    "df"
   ]
  },
  {
   "cell_type": "code",
   "execution_count": 51,
   "metadata": {},
   "outputs": [
    {
     "data": {
      "text/plain": [
       "True"
      ]
     },
     "execution_count": 51,
     "metadata": {},
     "output_type": "execute_result"
    }
   ],
   "source": [
    "df.values.base is raw"
   ]
  },
  {
   "cell_type": "markdown",
   "metadata": {},
   "source": [
    "However, whenever you're mixing mulitple dtypes (which is kind of the point of pandas), `.values` ceases to be a simple view."
   ]
  },
  {
   "cell_type": "code",
   "execution_count": 114,
   "metadata": {},
   "outputs": [
    {
     "data": {
      "text/html": [
       "<div>\n",
       "<style scoped>\n",
       "    .dataframe tbody tr th:only-of-type {\n",
       "        vertical-align: middle;\n",
       "    }\n",
       "\n",
       "    .dataframe tbody tr th {\n",
       "        vertical-align: top;\n",
       "    }\n",
       "\n",
       "    .dataframe thead th {\n",
       "        text-align: right;\n",
       "    }\n",
       "</style>\n",
       "<table border=\"1\" class=\"dataframe\">\n",
       "  <thead>\n",
       "    <tr style=\"text-align: right;\">\n",
       "      <th></th>\n",
       "      <th>a</th>\n",
       "      <th>b</th>\n",
       "      <th>c</th>\n",
       "      <th>d</th>\n",
       "      <th>e</th>\n",
       "    </tr>\n",
       "  </thead>\n",
       "  <tbody>\n",
       "    <tr>\n",
       "      <th>0</th>\n",
       "      <td>0.033655</td>\n",
       "      <td>1.510416</td>\n",
       "      <td>-0.531118</td>\n",
       "      <td>a</td>\n",
       "      <td>2000-01-01</td>\n",
       "    </tr>\n",
       "    <tr>\n",
       "      <th>1</th>\n",
       "      <td>-0.746052</td>\n",
       "      <td>0.966268</td>\n",
       "      <td>-0.466264</td>\n",
       "      <td>b</td>\n",
       "      <td>2001-01-01</td>\n",
       "    </tr>\n",
       "    <tr>\n",
       "      <th>2</th>\n",
       "      <td>0.665390</td>\n",
       "      <td>0.399909</td>\n",
       "      <td>0.014779</td>\n",
       "      <td>c</td>\n",
       "      <td>2002-01-01</td>\n",
       "    </tr>\n",
       "    <tr>\n",
       "      <th>3</th>\n",
       "      <td>-0.302676</td>\n",
       "      <td>-0.998920</td>\n",
       "      <td>-1.221139</td>\n",
       "      <td>d</td>\n",
       "      <td>2003-01-01</td>\n",
       "    </tr>\n",
       "  </tbody>\n",
       "</table>\n",
       "</div>"
      ],
      "text/plain": [
       "          a         b         c  d           e\n",
       "0  0.033655  1.510416 -0.531118  a  2000-01-01\n",
       "1 -0.746052  0.966268 -0.466264  b  2001-01-01\n",
       "2  0.665390  0.399909  0.014779  c  2002-01-01\n",
       "3 -0.302676 -0.998920 -1.221139  d  2003-01-01"
      ]
     },
     "execution_count": 114,
     "metadata": {},
     "output_type": "execute_result"
    }
   ],
   "source": [
    "cat = pd.Categorical(['a', 'b', 'c', 'd'])\n",
    "df['d'] = cat\n",
    "df"
   ]
  },
  {
   "cell_type": "code",
   "execution_count": 115,
   "metadata": {},
   "outputs": [
    {
     "data": {
      "text/plain": [
       "array([[0.03365458674898049, 1.5104155357806661, -0.5311179665743218,\n",
       "        'a', Period('2000-01-01', 'D')],\n",
       "       [-0.7460522557632073, 0.9662675378272944, -0.4662641807126219,\n",
       "        'b', Period('2001-01-01', 'D')],\n",
       "       [0.6653895320667494, 0.3999092582635787, 0.014778543620679124,\n",
       "        'c', Period('2002-01-01', 'D')],\n",
       "       [-0.30267576860690953, -0.9989200820913902, -1.221139265058624,\n",
       "        'd', Period('2003-01-01', 'D')]], dtype=object)"
      ]
     },
     "execution_count": 115,
     "metadata": {},
     "output_type": "execute_result"
    }
   ],
   "source": [
    "df.values"
   ]
  },
  {
   "cell_type": "markdown",
   "metadata": {},
   "source": [
    "NumPy arrays have a single dtype for every element, which means we must find a common dtype for all the columns. In practice, this often means `object`-dtype (each element of the 2D array is a Python object). This conversion from native to object dtype is expensive in time and memory.\n",
    "\n",
    "If you need a NumPy array from a DataFrame, we recommend using :meth:`DataFrame.to_numpy()`."
   ]
  },
  {
   "cell_type": "code",
   "execution_count": 116,
   "metadata": {},
   "outputs": [
    {
     "data": {
      "text/plain": [
       "array([[0.03365458674898049, 1.5104155357806661, -0.5311179665743218,\n",
       "        'a', Period('2000-01-01', 'D')],\n",
       "       [-0.7460522557632073, 0.9662675378272944, -0.4662641807126219,\n",
       "        'b', Period('2001-01-01', 'D')],\n",
       "       [0.6653895320667494, 0.3999092582635787, 0.014778543620679124,\n",
       "        'c', Period('2002-01-01', 'D')],\n",
       "       [-0.30267576860690953, -0.9989200820913902, -1.221139265058624,\n",
       "        'd', Period('2003-01-01', 'D')]], dtype=object)"
      ]
     },
     "execution_count": 116,
     "metadata": {},
     "output_type": "execute_result"
    }
   ],
   "source": [
    "df.to_numpy()"
   ]
  },
  {
   "cell_type": "markdown",
   "metadata": {},
   "source": [
    "This makes it clearer that the operation may be expensive (and offers control over whether or not to copy the data).\n",
    "\n",
    "For :class:`Series` things are both simpler and more complex. We no longer have the issue with having to find a common dtype to accomodate multiple columns. However, not every 1-D array allowed in Pandas can be represented by NumPy.\n",
    "\n",
    "The basics like floats are fine. And we get zero-copy access to the the original data."
   ]
  },
  {
   "cell_type": "code",
   "execution_count": 117,
   "metadata": {},
   "outputs": [
    {
     "data": {
      "text/plain": [
       "array([ 0.03365459, -0.74605226,  0.66538953, -0.30267577])"
      ]
     },
     "execution_count": 117,
     "metadata": {},
     "output_type": "execute_result"
    }
   ],
   "source": [
    "df['a'].values"
   ]
  },
  {
   "cell_type": "code",
   "execution_count": 118,
   "metadata": {},
   "outputs": [
    {
     "data": {
      "text/plain": [
       "True"
      ]
     },
     "execution_count": 118,
     "metadata": {},
     "output_type": "execute_result"
    }
   ],
   "source": [
    "df['a'].values.base is raw"
   ]
  },
  {
   "cell_type": "markdown",
   "metadata": {},
   "source": [
    "But for extension types, this isn't necessarily true. We have two conflicting desires\n",
    "\n",
    "1. Get a NumPy representation of the data\n",
    "2. Get a zero-copy view on the original data"
   ]
  },
  {
   "cell_type": "code",
   "execution_count": 119,
   "metadata": {},
   "outputs": [
    {
     "data": {
      "text/html": [
       "<div>\n",
       "<style scoped>\n",
       "    .dataframe tbody tr th:only-of-type {\n",
       "        vertical-align: middle;\n",
       "    }\n",
       "\n",
       "    .dataframe tbody tr th {\n",
       "        vertical-align: top;\n",
       "    }\n",
       "\n",
       "    .dataframe thead th {\n",
       "        text-align: right;\n",
       "    }\n",
       "</style>\n",
       "<table border=\"1\" class=\"dataframe\">\n",
       "  <thead>\n",
       "    <tr style=\"text-align: right;\">\n",
       "      <th></th>\n",
       "      <th>a</th>\n",
       "      <th>b</th>\n",
       "      <th>c</th>\n",
       "      <th>d</th>\n",
       "      <th>e</th>\n",
       "    </tr>\n",
       "  </thead>\n",
       "  <tbody>\n",
       "    <tr>\n",
       "      <th>0</th>\n",
       "      <td>0.033655</td>\n",
       "      <td>1.510416</td>\n",
       "      <td>-0.531118</td>\n",
       "      <td>a</td>\n",
       "      <td>2000-01-01</td>\n",
       "    </tr>\n",
       "    <tr>\n",
       "      <th>1</th>\n",
       "      <td>-0.746052</td>\n",
       "      <td>0.966268</td>\n",
       "      <td>-0.466264</td>\n",
       "      <td>b</td>\n",
       "      <td>2001-01-01</td>\n",
       "    </tr>\n",
       "    <tr>\n",
       "      <th>2</th>\n",
       "      <td>0.665390</td>\n",
       "      <td>0.399909</td>\n",
       "      <td>0.014779</td>\n",
       "      <td>c</td>\n",
       "      <td>2002-01-01</td>\n",
       "    </tr>\n",
       "    <tr>\n",
       "      <th>3</th>\n",
       "      <td>-0.302676</td>\n",
       "      <td>-0.998920</td>\n",
       "      <td>-1.221139</td>\n",
       "      <td>d</td>\n",
       "      <td>2003-01-01</td>\n",
       "    </tr>\n",
       "  </tbody>\n",
       "</table>\n",
       "</div>"
      ],
      "text/plain": [
       "          a         b         c  d           e\n",
       "0  0.033655  1.510416 -0.531118  a  2000-01-01\n",
       "1 -0.746052  0.966268 -0.466264  b  2001-01-01\n",
       "2  0.665390  0.399909  0.014779  c  2002-01-01\n",
       "3 -0.302676 -0.998920 -1.221139  d  2003-01-01"
      ]
     },
     "execution_count": 119,
     "metadata": {},
     "output_type": "execute_result"
    }
   ],
   "source": [
    "periods = pd.array(['2000', '2001', '2002', '2003'], dtype='Period[D]')\n",
    "df['e'] = periods\n",
    "df"
   ]
  },
  {
   "cell_type": "code",
   "execution_count": 120,
   "metadata": {},
   "outputs": [
    {
     "data": {
      "text/plain": [
       "[a, b, c, d]\n",
       "Categories (4, object): [a, b, c, d]"
      ]
     },
     "execution_count": 120,
     "metadata": {},
     "output_type": "execute_result"
    }
   ],
   "source": [
    "df['d'].values"
   ]
  },
  {
   "cell_type": "code",
   "execution_count": 135,
   "metadata": {},
   "outputs": [
    {
     "data": {
      "text/plain": [
       "array([Period('2000-01-01', 'D'), Period('2001-01-01', 'D'),\n",
       "       Period('2002-01-01', 'D'), Period('2003-01-01', 'D')], dtype=object)"
      ]
     },
     "execution_count": 135,
     "metadata": {},
     "output_type": "execute_result"
    }
   ],
   "source": [
    "df['e'].values"
   ]
  },
  {
   "cell_type": "markdown",
   "metadata": {},
   "source": [
    "For the first purpose, we recommend :meth:`Series.to_numpy`."
   ]
  },
  {
   "cell_type": "code",
   "execution_count": 136,
   "metadata": {},
   "outputs": [
    {
     "data": {
      "text/plain": [
       "array(['a', 'b', 'c', 'd'], dtype=object)"
      ]
     },
     "execution_count": 136,
     "metadata": {},
     "output_type": "execute_result"
    }
   ],
   "source": [
    "df['d'].to_numpy()"
   ]
  },
  {
   "cell_type": "code",
   "execution_count": 137,
   "metadata": {},
   "outputs": [
    {
     "data": {
      "text/plain": [
       "array([Period('2000-01-01', 'D'), Period('2001-01-01', 'D'),\n",
       "       Period('2002-01-01', 'D'), Period('2003-01-01', 'D')], dtype=object)"
      ]
     },
     "execution_count": 137,
     "metadata": {},
     "output_type": "execute_result"
    }
   ],
   "source": [
    "df['e'].to_numpy()"
   ]
  },
  {
   "cell_type": "raw",
   "metadata": {},
   "source": [
    "For the second purpose, we recommend :meth:`Series.array`."
   ]
  },
  {
   "cell_type": "code",
   "execution_count": 141,
   "metadata": {},
   "outputs": [
    {
     "data": {
      "text/plain": [
       "<PandasArray>\n",
       "[ 0.03365458674898049,  -0.7460522557632073,   0.6653895320667494,\n",
       " -0.30267576860690953]\n",
       "Length: 4, dtype: float64"
      ]
     },
     "execution_count": 141,
     "metadata": {},
     "output_type": "execute_result"
    }
   ],
   "source": [
    "df['a'].array"
   ]
  },
  {
   "cell_type": "code",
   "execution_count": 138,
   "metadata": {},
   "outputs": [
    {
     "data": {
      "text/plain": [
       "[a, b, c, d]\n",
       "Categories (4, object): [a, b, c, d]"
      ]
     },
     "execution_count": 138,
     "metadata": {},
     "output_type": "execute_result"
    }
   ],
   "source": [
    "df['d'].array"
   ]
  },
  {
   "cell_type": "code",
   "execution_count": 139,
   "metadata": {},
   "outputs": [
    {
     "data": {
      "text/plain": [
       "<PeriodArray>\n",
       "['2000-01-01', '2001-01-01', '2002-01-01', '2003-01-01']\n",
       "Length: 4, dtype: period[D]"
      ]
     },
     "execution_count": 139,
     "metadata": {},
     "output_type": "execute_result"
    }
   ],
   "source": [
    "df['e'].array"
   ]
  },
  {
   "cell_type": "markdown",
   "metadata": {},
   "source": [
    "See :ref:`dsintro.arraylike` for more."
   ]
  },
  {
   "cell_type": "markdown",
   "metadata": {},
   "source": [
    "## Follow Tidy Data Principles\n",
    "\n",
    "As [Hadley Whickham](http://www.jstatsoft.org/v59/i10/paper) says, Tidy Data is about\n",
    "\n",
    "> Structuring datasets to facilitate analysis\n",
    "\n",
    "His three rules are that a dataset is tidy when\n",
    "\n",
    "1. Each variable forms a column\n",
    "2. Each observation forms a row\n",
    "3. Each type of observational unit forms a table"
   ]
  },
  {
   "cell_type": "code",
   "execution_count": 143,
   "metadata": {},
   "outputs": [
    {
     "data": {
      "text/html": [
       "<div>\n",
       "<style scoped>\n",
       "    .dataframe tbody tr th:only-of-type {\n",
       "        vertical-align: middle;\n",
       "    }\n",
       "\n",
       "    .dataframe tbody tr th {\n",
       "        vertical-align: top;\n",
       "    }\n",
       "\n",
       "    .dataframe thead th {\n",
       "        text-align: right;\n",
       "    }\n",
       "</style>\n",
       "<table border=\"1\" class=\"dataframe\">\n",
       "  <thead>\n",
       "    <tr style=\"text-align: right;\">\n",
       "      <th></th>\n",
       "      <th>Date</th>\n",
       "      <th>Start (ET)</th>\n",
       "      <th>Visitor/Neutral</th>\n",
       "      <th>PTS</th>\n",
       "      <th>Home/Neutral</th>\n",
       "      <th>PTS.1</th>\n",
       "      <th>Unnamed: 6</th>\n",
       "      <th>Unnamed: 7</th>\n",
       "      <th>Attend.</th>\n",
       "      <th>Notes</th>\n",
       "    </tr>\n",
       "  </thead>\n",
       "  <tbody>\n",
       "    <tr>\n",
       "      <th>0</th>\n",
       "      <td>Tue, Oct 27, 2015</td>\n",
       "      <td>8:00p</td>\n",
       "      <td>Detroit Pistons</td>\n",
       "      <td>106</td>\n",
       "      <td>Atlanta Hawks</td>\n",
       "      <td>94</td>\n",
       "      <td>Box Score</td>\n",
       "      <td>NaN</td>\n",
       "      <td>19187</td>\n",
       "      <td>NaN</td>\n",
       "    </tr>\n",
       "    <tr>\n",
       "      <th>1</th>\n",
       "      <td>Tue, Oct 27, 2015</td>\n",
       "      <td>8:00p</td>\n",
       "      <td>Cleveland Cavaliers</td>\n",
       "      <td>95</td>\n",
       "      <td>Chicago Bulls</td>\n",
       "      <td>97</td>\n",
       "      <td>Box Score</td>\n",
       "      <td>NaN</td>\n",
       "      <td>21957</td>\n",
       "      <td>NaN</td>\n",
       "    </tr>\n",
       "    <tr>\n",
       "      <th>2</th>\n",
       "      <td>Tue, Oct 27, 2015</td>\n",
       "      <td>10:30p</td>\n",
       "      <td>New Orleans Pelicans</td>\n",
       "      <td>95</td>\n",
       "      <td>Golden State Warriors</td>\n",
       "      <td>111</td>\n",
       "      <td>Box Score</td>\n",
       "      <td>NaN</td>\n",
       "      <td>19596</td>\n",
       "      <td>NaN</td>\n",
       "    </tr>\n",
       "    <tr>\n",
       "      <th>3</th>\n",
       "      <td>Wed, Oct 28, 2015</td>\n",
       "      <td>7:30p</td>\n",
       "      <td>Philadelphia 76ers</td>\n",
       "      <td>95</td>\n",
       "      <td>Boston Celtics</td>\n",
       "      <td>112</td>\n",
       "      <td>Box Score</td>\n",
       "      <td>NaN</td>\n",
       "      <td>18624</td>\n",
       "      <td>NaN</td>\n",
       "    </tr>\n",
       "    <tr>\n",
       "      <th>4</th>\n",
       "      <td>Wed, Oct 28, 2015</td>\n",
       "      <td>7:30p</td>\n",
       "      <td>Chicago Bulls</td>\n",
       "      <td>115</td>\n",
       "      <td>Brooklyn Nets</td>\n",
       "      <td>100</td>\n",
       "      <td>Box Score</td>\n",
       "      <td>NaN</td>\n",
       "      <td>17732</td>\n",
       "      <td>NaN</td>\n",
       "    </tr>\n",
       "  </tbody>\n",
       "</table>\n",
       "</div>"
      ],
      "text/plain": [
       "                Date Start (ET)       Visitor/Neutral  PTS  \\\n",
       "0  Tue, Oct 27, 2015      8:00p       Detroit Pistons  106   \n",
       "1  Tue, Oct 27, 2015      8:00p   Cleveland Cavaliers   95   \n",
       "2  Tue, Oct 27, 2015     10:30p  New Orleans Pelicans   95   \n",
       "3  Wed, Oct 28, 2015      7:30p    Philadelphia 76ers   95   \n",
       "4  Wed, Oct 28, 2015      7:30p         Chicago Bulls  115   \n",
       "\n",
       "            Home/Neutral  PTS.1 Unnamed: 6 Unnamed: 7  Attend.  Notes  \n",
       "0          Atlanta Hawks     94  Box Score        NaN    19187    NaN  \n",
       "1          Chicago Bulls     97  Box Score        NaN    21957    NaN  \n",
       "2  Golden State Warriors    111  Box Score        NaN    19596    NaN  \n",
       "3         Boston Celtics    112  Box Score        NaN    18624    NaN  \n",
       "4          Brooklyn Nets    100  Box Score        NaN    17732    NaN  "
      ]
     },
     "execution_count": 143,
     "metadata": {},
     "output_type": "execute_result"
    }
   ],
   "source": [
    "tables = pd.read_html(\"http://www.basketball-reference.com/leagues/NBA_2016_games.html\")\n",
    "games = tables[0]\n",
    "games.head()"
   ]
  },
  {
   "cell_type": "code",
   "execution_count": 144,
   "metadata": {},
   "outputs": [
    {
     "data": {
      "text/html": [
       "<div>\n",
       "<style scoped>\n",
       "    .dataframe tbody tr th:only-of-type {\n",
       "        vertical-align: middle;\n",
       "    }\n",
       "\n",
       "    .dataframe tbody tr th {\n",
       "        vertical-align: top;\n",
       "    }\n",
       "\n",
       "    .dataframe thead th {\n",
       "        text-align: right;\n",
       "    }\n",
       "</style>\n",
       "<table border=\"1\" class=\"dataframe\">\n",
       "  <thead>\n",
       "    <tr style=\"text-align: right;\">\n",
       "      <th></th>\n",
       "      <th></th>\n",
       "      <th>away_team</th>\n",
       "      <th>away_points</th>\n",
       "      <th>home_team</th>\n",
       "      <th>home_points</th>\n",
       "    </tr>\n",
       "    <tr>\n",
       "      <th>game_id</th>\n",
       "      <th>date</th>\n",
       "      <th></th>\n",
       "      <th></th>\n",
       "      <th></th>\n",
       "      <th></th>\n",
       "    </tr>\n",
       "  </thead>\n",
       "  <tbody>\n",
       "    <tr>\n",
       "      <th>0</th>\n",
       "      <th>2015-10-27</th>\n",
       "      <td>Detroit Pistons</td>\n",
       "      <td>106</td>\n",
       "      <td>Atlanta Hawks</td>\n",
       "      <td>94</td>\n",
       "    </tr>\n",
       "    <tr>\n",
       "      <th>1</th>\n",
       "      <th>2015-10-27</th>\n",
       "      <td>Cleveland Cavaliers</td>\n",
       "      <td>95</td>\n",
       "      <td>Chicago Bulls</td>\n",
       "      <td>97</td>\n",
       "    </tr>\n",
       "    <tr>\n",
       "      <th>2</th>\n",
       "      <th>2015-10-27</th>\n",
       "      <td>New Orleans Pelicans</td>\n",
       "      <td>95</td>\n",
       "      <td>Golden State Warriors</td>\n",
       "      <td>111</td>\n",
       "    </tr>\n",
       "    <tr>\n",
       "      <th>3</th>\n",
       "      <th>2015-10-28</th>\n",
       "      <td>Philadelphia 76ers</td>\n",
       "      <td>95</td>\n",
       "      <td>Boston Celtics</td>\n",
       "      <td>112</td>\n",
       "    </tr>\n",
       "    <tr>\n",
       "      <th>4</th>\n",
       "      <th>2015-10-28</th>\n",
       "      <td>Chicago Bulls</td>\n",
       "      <td>115</td>\n",
       "      <td>Brooklyn Nets</td>\n",
       "      <td>100</td>\n",
       "    </tr>\n",
       "  </tbody>\n",
       "</table>\n",
       "</div>"
      ],
      "text/plain": [
       "                               away_team  away_points              home_team  \\\n",
       "game_id date                                                                   \n",
       "0       2015-10-27       Detroit Pistons          106          Atlanta Hawks   \n",
       "1       2015-10-27   Cleveland Cavaliers           95          Chicago Bulls   \n",
       "2       2015-10-27  New Orleans Pelicans           95  Golden State Warriors   \n",
       "3       2015-10-28    Philadelphia 76ers           95         Boston Celtics   \n",
       "4       2015-10-28         Chicago Bulls          115          Brooklyn Nets   \n",
       "\n",
       "                    home_points  \n",
       "game_id date                     \n",
       "0       2015-10-27           94  \n",
       "1       2015-10-27           97  \n",
       "2       2015-10-27          111  \n",
       "3       2015-10-28          112  \n",
       "4       2015-10-28          100  "
      ]
     },
     "execution_count": 144,
     "metadata": {},
     "output_type": "execute_result"
    }
   ],
   "source": [
    "column_names = {'Date': 'date', 'Start (ET)': 'start',\n",
    "                'Unamed: 2': 'box', 'Visitor/Neutral': 'away_team', \n",
    "                'PTS': 'away_points', 'Home/Neutral': 'home_team',\n",
    "                'PTS.1': 'home_points', 'Unamed: 7': 'n_ot'}\n",
    "\n",
    "games = (games.rename(columns=column_names)\n",
    "    .dropna(thresh=4)\n",
    "    [['date', 'away_team', 'away_points', 'home_team', 'home_points']]\n",
    "    .assign(date=lambda x: pd.to_datetime(x['date'], format='%a, %b %d, %Y'))\n",
    "    .set_index('date', append=True)\n",
    "    .rename_axis([\"game_id\", \"date\"])\n",
    "    .sort_index())\n",
    "games.head()\n"
   ]
  },
  {
   "cell_type": "markdown",
   "metadata": {},
   "source": [
    "Consider the question **How many days of rest did each team get between each game?**\n",
    "As currently structed, our dataset does not facilitate answering that question. A single team's games are spread across multiple columns (`away_team`, `home_team`).\n",
    "\n",
    "To answer this question, the columns would be something like\n",
    "\n",
    "date       | team_name\n",
    "---------- | ---------------\n",
    "2015-10-27 | Detroit Pistons\n",
    "2015-10-27 | Atlanta Hawks\n",
    "2015-10-27 | Cleveland Cavaliers\n",
    "...        | ...\n",
    "\n",
    "We acheive that with :meth:`DataFrame.melt`"
   ]
  },
  {
   "cell_type": "code",
   "execution_count": 148,
   "metadata": {},
   "outputs": [
    {
     "data": {
      "text/html": [
       "<div>\n",
       "<style scoped>\n",
       "    .dataframe tbody tr th:only-of-type {\n",
       "        vertical-align: middle;\n",
       "    }\n",
       "\n",
       "    .dataframe tbody tr th {\n",
       "        vertical-align: top;\n",
       "    }\n",
       "\n",
       "    .dataframe thead th {\n",
       "        text-align: right;\n",
       "    }\n",
       "</style>\n",
       "<table border=\"1\" class=\"dataframe\">\n",
       "  <thead>\n",
       "    <tr style=\"text-align: right;\">\n",
       "      <th></th>\n",
       "      <th>game_id</th>\n",
       "      <th>date</th>\n",
       "      <th>home_or_away</th>\n",
       "      <th>team</th>\n",
       "    </tr>\n",
       "  </thead>\n",
       "  <tbody>\n",
       "    <tr>\n",
       "      <th>0</th>\n",
       "      <td>0</td>\n",
       "      <td>2015-10-27</td>\n",
       "      <td>away_team</td>\n",
       "      <td>Detroit Pistons</td>\n",
       "    </tr>\n",
       "    <tr>\n",
       "      <th>1</th>\n",
       "      <td>1</td>\n",
       "      <td>2015-10-27</td>\n",
       "      <td>away_team</td>\n",
       "      <td>Cleveland Cavaliers</td>\n",
       "    </tr>\n",
       "    <tr>\n",
       "      <th>2</th>\n",
       "      <td>2</td>\n",
       "      <td>2015-10-27</td>\n",
       "      <td>away_team</td>\n",
       "      <td>New Orleans Pelicans</td>\n",
       "    </tr>\n",
       "    <tr>\n",
       "      <th>3</th>\n",
       "      <td>3</td>\n",
       "      <td>2015-10-28</td>\n",
       "      <td>away_team</td>\n",
       "      <td>Philadelphia 76ers</td>\n",
       "    </tr>\n",
       "    <tr>\n",
       "      <th>4</th>\n",
       "      <td>4</td>\n",
       "      <td>2015-10-28</td>\n",
       "      <td>away_team</td>\n",
       "      <td>Chicago Bulls</td>\n",
       "    </tr>\n",
       "  </tbody>\n",
       "</table>\n",
       "</div>"
      ],
      "text/plain": [
       "   game_id       date home_or_away                  team\n",
       "0        0 2015-10-27    away_team       Detroit Pistons\n",
       "1        1 2015-10-27    away_team   Cleveland Cavaliers\n",
       "2        2 2015-10-27    away_team  New Orleans Pelicans\n",
       "3        3 2015-10-28    away_team    Philadelphia 76ers\n",
       "4        4 2015-10-28    away_team         Chicago Bulls"
      ]
     },
     "execution_count": 148,
     "metadata": {},
     "output_type": "execute_result"
    }
   ],
   "source": [
    "tidy = (games.reset_index()\n",
    "    .melt(id_vars=['game_id', 'date'], value_vars=['away_team', 'home_team'],\n",
    "          value_name='team', var_name='home_or_away')\n",
    ")\n",
    "tidy.head()"
   ]
  },
  {
   "cell_type": "markdown",
   "metadata": {},
   "source": [
    "Now answering the question is relatively straightforward. For each team (`.groupby('team')`), how many days passed between rows (`.date.diff().dt.days - 1`)"
   ]
  },
  {
   "cell_type": "code",
   "execution_count": 149,
   "metadata": {},
   "outputs": [
    {
     "data": {
      "text/plain": [
       "0     NaN\n",
       "1     NaN\n",
       "2     NaN\n",
       "3     NaN\n",
       "4     NaN\n",
       "     ... \n",
       "71    1.0\n",
       "72    2.0\n",
       "73    2.0\n",
       "74    2.0\n",
       "75    0.0\n",
       "Name: date, Length: 76, dtype: float64"
      ]
     },
     "execution_count": 149,
     "metadata": {},
     "output_type": "execute_result"
    }
   ],
   "source": [
    "tidy.groupby('team')['date'].diff().dt.days - 1"
   ]
  }
 ],
 "metadata": {
  "kernelspec": {
   "display_name": "Python 3",
   "language": "python",
   "name": "python3"
  },
  "language_info": {
   "codemirror_mode": {
    "name": "ipython",
    "version": 3
   },
   "file_extension": ".py",
   "mimetype": "text/x-python",
   "name": "python",
   "nbconvert_exporter": "python",
   "pygments_lexer": "ipython3",
   "version": "3.7.3"
  }
 },
 "nbformat": 4,
 "nbformat_minor": 2
}
